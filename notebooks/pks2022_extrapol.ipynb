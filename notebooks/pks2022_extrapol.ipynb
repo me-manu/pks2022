{
 "cells": [
  {
   "cell_type": "code",
   "execution_count": 1,
   "metadata": {},
   "outputs": [],
   "source": [
    "import matplotlib.pyplot as plt\n",
    "import numpy as np\n",
    "from gammapy.spectrum.models import PowerLaw, PowerLaw2, LogParabola,ExponentialCutoffPowerLaw\n",
    "from astropy import units as u\n",
    "from scipy.stats import norm as normal\n",
    "from scipy.special import ndtri, erf\n",
    "from scipy.interpolate import UnivariateSpline as USpline\n",
    "from scipy.interpolate import interp1d\n",
    "from astropy import constants"
   ]
  },
  {
   "cell_type": "markdown",
   "metadata": {},
   "source": [
    "For the notebook to run, you will need to install my EBL module, which you can install via \n",
    "```pip install ebltable```"
   ]
  },
  {
   "cell_type": "code",
   "execution_count": 2,
   "metadata": {},
   "outputs": [],
   "source": [
    "from ebltable.tau_from_model import OptDepth"
   ]
  },
  {
   "cell_type": "code",
   "execution_count": 3,
   "metadata": {},
   "outputs": [],
   "source": [
    "%matplotlib inline"
   ]
  },
  {
   "cell_type": "markdown",
   "metadata": {},
   "source": [
    "### Import data "
   ]
  },
  {
   "cell_type": "code",
   "execution_count": 4,
   "metadata": {},
   "outputs": [],
   "source": [
    "ul_hess = {}\n",
    "#ul_hess['oct'] = np.loadtxt('../data/upperocto.txt').T\n",
    "#ul_hess['sept'] = np.loadtxt('../data/uppersept.txt').T\n",
    "ul_hess['oct'] = np.loadtxt('../data/october17_reanalysis_SpectrumUpperLimitSubmit.txt').T\n",
    "ul_hess['sept'] = np.loadtxt('../data/september17_reanalysis_SpectrumUpperLimit.txt').T\n",
    "ul_hess['apr'] = np.loadtxt('../data/apr2016_newmodel_upperlimit.txt').T"
   ]
  },
  {
   "cell_type": "markdown",
   "metadata": {},
   "source": [
    "### Define Fermi Spectra"
   ]
  },
  {
   "cell_type": "code",
   "execution_count": 5,
   "metadata": {},
   "outputs": [],
   "source": [
    "fermi_spec = {}\n",
    "fermi_par = {}\n",
    "\n",
    "fermi_par['sept'] = dict( pl2 = dict(index = 2.082, amplitude=1.06e-6* u.Unit('cm-2 s-1'),\n",
    "                              emin = 0.1 * u.GeV, emax = 500. * u.GeV))\n",
    "\n",
    "fermi_par['sept_sim'] = {}\n",
    "\n",
    "fermi_par['oct'] = dict( pl2 = dict(index = 2.242, amplitude=3.12e-7 * u.Unit('cm-2 s-1'),\n",
    "                             emin = 0.1 * u.GeV, emax = 500. * u.GeV))\n",
    "\n",
    "norm = 1e-11\n",
    "fermi_par['sept_sim']['pl'] = dict(index = 2.005, amplitude=23.32*norm* u.Unit(\n",
    "                                    'MeV-1 cm-2 s-1').to('GeV-1 cm-2 s-1'),\n",
    "                              reference = 0.496426 * u.GeV)\n",
    "fermi_par['sept']['pl'] = dict(index = 2.082, amplitude=40.97757589849*norm* u.Unit(\n",
    "                                    'MeV-1 cm-2 s-1').to('GeV-1 cm-2 s-1'),\n",
    "                              reference = 0.496426 * u.GeV)\n",
    "fermi_par['oct']['pl'] =  dict(index = 2.242, amplitude=10.65170752054*norm * u.Unit(\n",
    "                                    'MeV-1 cm-2 s-1').to('GeV-1 cm-2 s-1'),\n",
    "                             reference = 0.496426 * u.GeV)\n",
    "fermi_par['sept']['lp'] = dict(alpha = 2.009289714868, \n",
    "                               amplitude=43.01704086633*norm* u.Unit(\n",
    "                                    'MeV-1 cm-2 s-1').to('GeV-1 cm-2 s-1'),\n",
    "                               beta = 0.05727591104931,\n",
    "                              reference = 0.496426 * u.GeV)\n",
    "fermi_par['oct']['lp'] =  dict(alpha = 2.150070906498,\n",
    "                               amplitude=12.46879700208*norm * u.Unit(\n",
    "                                    'MeV-1 cm-2 s-1').to('GeV-1 cm-2 s-1'),\n",
    "                               beta = 0.1585455831175,\n",
    "                             reference = 0.496426 * u.GeV)\n",
    "\n",
    "\n",
    "fermi_spec['sept'] = dict(pl2 = PowerLaw2(**fermi_par['sept']['pl2']))\n",
    "fermi_spec['sept_sim'] = {}\n",
    "fermi_spec['oct'] = dict(pl2 = PowerLaw2(**fermi_par['oct']['pl2']))\n",
    "\n",
    "fermi_spec['sept']['pl'] = PowerLaw(**fermi_par['sept']['pl'])\n",
    "fermi_spec['sept_sim']['pl'] = PowerLaw(**fermi_par['sept_sim']['pl'])\n",
    "fermi_spec['oct']['pl'] = PowerLaw(**fermi_par['oct']['pl'])\n",
    "\n",
    "fermi_spec['sept']['lp'] = LogParabola(**fermi_par['sept']['lp'])\n",
    "fermi_spec['oct']['lp'] = LogParabola(**fermi_par['oct']['lp'])"
   ]
  },
  {
   "cell_type": "markdown",
   "metadata": {},
   "source": [
    "Init covariance matrices (obtained from https://hess-confluence.desy.de/confluence/x/HepLAQ)"
   ]
  },
  {
   "cell_type": "code",
   "execution_count": 6,
   "metadata": {},
   "outputs": [],
   "source": [
    "cov = dict(\n",
    "    sept = dict(\n",
    "        pl = np.array([\n",
    "            [2.70846, -0.000634053],\n",
    "            [-0.000634053, 0.00123528]]),\n",
    "        lp = np.array([\n",
    "            [4.44714,   -0.0286326,    0.0286135],\n",
    "            [-0.0286326,    0.0022752, -0.000666179],\n",
    "            [0.0286135, -0.000666179,  0.000619096]\n",
    "            ])\n",
    "    ), \n",
    "    sept_sim = dict(\n",
    "        pl = np.array([\n",
    "            [      8.23102,    0.0703009],\n",
    "            [0.0703009,   0.00987797 ]]),\n",
    "    ), \n",
    "    oct = dict(\n",
    "        pl = np.array([\n",
    "            [5.0838, -0.0261991],\n",
    "            [-0.0261991, 0.0377177]]),\n",
    "        lp = np.array([\n",
    "            [10.2542,    -0.143369,     0.326844],\n",
    "            [-0.143369,     0.065213,   -0.0122297],\n",
    "            [0.326844,   -0.0122297,     0.033347]\n",
    "        ])\n",
    "    )\n",
    ")\n",
    "\n",
    "for k in list(cov.keys()):\n",
    "    for s in list(cov[k].keys()):\n",
    "        cov[k][s][0] *= norm\n",
    "        cov[k][s][:,0] *= norm"
   ]
  },
  {
   "cell_type": "code",
   "execution_count": 7,
   "metadata": {},
   "outputs": [],
   "source": [
    "z = 1.388\n",
    "tau = OptDepth.readmodel(model='dominguez')"
   ]
  },
  {
   "cell_type": "markdown",
   "metadata": {},
   "source": [
    "### Define butterfly functions"
   ]
  },
  {
   "cell_type": "code",
   "execution_count": 8,
   "metadata": {},
   "outputs": [],
   "source": [
    "butterfly_pl = lambda x,cov,**p : np.sqrt (cov[0,0]/p['amplitude'] ** 2. + \\\n",
    "                    np.log(x/p['reference'])**2. * cov[1,1] \\\n",
    "                    + 2. * cov[0,1] * np.log(x/p['reference']) / p['amplitude']\n",
    "                    )\n",
    "butterfly_lp = lambda x,cov,**p : np.sqrt( cov[0,0]/p['norm'] ** 2. \\\n",
    "            + 2. * cov[0,1] * np.log(x/p['Eb']) / p['norm'] \\\n",
    "            + np.log(x / p['Eb'] ) **2. * ( \\\n",
    "            cov[1,1] + cov[2,2] * np.log(x/p['Eb']) ** 2. \\\n",
    "            + 2. * (cov[0,2] / p['norm'] + cov[1,2] * np.log(x/p['Eb']) ) \\\n",
    "            )\n",
    "            )"
   ]
  },
  {
   "cell_type": "markdown",
   "metadata": {},
   "source": [
    "### Plot"
   ]
  },
  {
   "cell_type": "code",
   "execution_count": 9,
   "metadata": {},
   "outputs": [
    {
     "data": {
      "image/png": "[encoded data removed]",
      "text/plain": [
       "<matplotlib.figure.Figure at 0x1a0d93b810>"
      ]
     },
     "metadata": {},
     "output_type": "display_data"
    }
   ],
   "source": [
    "ax = plt.gca()\n",
    "\n",
    "x = np.logspace(-1, 3.5,100) * u.GeV\n",
    "for i,k in enumerate(list(fermi_par.keys())):\n",
    "    \n",
    "    if k in ul_hess.keys():    \n",
    "        ax.errorbar(ul_hess[k][0] * 1e3, ul_hess[k][1] * ul_hess[k][0]**2. * \\\n",
    "                        1e3 * 1e-4 *u.GeV.to('erg'),\n",
    "               yerr = np.array([ul_hess[k][1] / 3.,np.zeros_like(ul_hess[k][1])]) * \\\n",
    "                    ul_hess[k][0]**2. * 1e3 * 1e-4*u.GeV.to('erg'),\n",
    "               uplims = True, \n",
    "               marker = 'o',\n",
    "               ms = 4.,\n",
    "               ls = 'None',\n",
    "               color = plt.cm.tab20(0.1 * i),\n",
    "               label = 'H.E.S.S. {0:s}'.format(k))\n",
    "\n",
    "    for j,s in enumerate(list(fermi_spec[k].keys())):\n",
    "        #print (k,s,fermi_spec.keys())\n",
    "        if s == 'pl2': continue\n",
    "            \n",
    "        f = fermi_spec[k][s](x)\n",
    "        c = u.GeV.to('erg') * x ** 2.\n",
    "        atten = np.exp(-tau.opt_depth(z,x.value / 1e3))\n",
    "        col = 0. if s == 'pl' else 0.2\n",
    "        \n",
    "        if s == 'pl' or s == 'lp':\n",
    "            df = butterfly_pl(x,cov[k][s],**fermi_par[k][s])\n",
    "            \n",
    "            ax.fill_between(x, f * (1. + df)* c * atten, \n",
    "                            y2 = f* (1. - df) * c * atten, \n",
    "                            color = plt.cm.tab20(0.1 * i + 0.05 + col),\n",
    "                           alpha = 0.2)\n",
    "            \n",
    "        ax.plot(x, f * c * atten,\n",
    "            color = plt.cm.tab20(0.1 * i + col),\n",
    "           ls = '-',\n",
    "           label = '$Fermi$ LAT {0:s}. {1:s}, w/ EBL'.format(k,s.upper()))\n",
    "\n",
    "ax.legend(loc = 'upper right', fontsize = 'x-small', ncol = 2)\n",
    "ax.set_ylim(1e-13,2e-9)\n",
    "ax.set_xscale('log')\n",
    "ax.set_yscale('log')\n",
    "ax.set_xlabel('Energy (GeV)')\n",
    "ax.set_ylabel('$E^2\\,dN/dE\\,(\\mathrm{erg}\\,\\mathrm{cm}^{-2}\\,\\mathrm{s}^{-1})$')\n",
    "plt.savefig('./sed.pdf')\n",
    "plt.savefig('./sed.png')"
   ]
  },
  {
   "cell_type": "markdown",
   "metadata": {},
   "source": [
    "# Modifying the extrapolation with exponential cut-off, stronger EBL, BLR absorption"
   ]
  },
  {
   "cell_type": "markdown",
   "metadata": {},
   "source": [
    "First we define which combination of HESS upper limits and Fermi spectra to use:"
   ]
  },
  {
   "cell_type": "code",
   "execution_count": 10,
   "metadata": {},
   "outputs": [],
   "source": [
    "h = 'sept' # HESS UL set\n",
    "f = 'sept_sim' # Fermi spectra set\n",
    "fs = 'pl' # Fermi spectrum and parameters"
   ]
  },
  {
   "cell_type": "markdown",
   "metadata": {},
   "source": [
    "And the $\\Delta$TS value for a 95% C.L. limit for 1 d.o.f. "
   ]
  },
  {
   "cell_type": "code",
   "execution_count": 11,
   "metadata": {},
   "outputs": [],
   "source": [
    "deltats = 2.71"
   ]
  },
  {
   "cell_type": "markdown",
   "metadata": {},
   "source": [
    "Create a set of likelihood functions vs flux from the HESS upper limits. Done with a function adapted from https://github.com/me-manu/blrabsorption/blob/master/fit_blr.py"
   ]
  },
  {
   "cell_type": "code",
   "execution_count": 12,
   "metadata": {},
   "outputs": [],
   "source": [
    "erfnorm = lambda z1,z0,x0,sigma: 0.5 * \\\n",
    "                    (erf((z1 - x0)/np.sqrt(2. * sigma**2.)) - \\\n",
    "                    erf((z0 - x0)/np.sqrt(2. * sigma**2.)))\n",
    "    \n",
    "def get_llh(x,y,dy, mUL, scale = 5., ysteps = 400, ymin = 1e-15, \n",
    "    ULconf = 0.95, distr = 'norm'):\n",
    "    \"\"\"\n",
    "    Initialize the class by building a data likelihood cube \n",
    "    from x (EGeV) and y (dN/dE) data with statistical error dy\n",
    "    Parameters\n",
    "    ----------\n",
    "    x: `~numpy.ndarray`\n",
    "        n-dim array with energy values in GeV\n",
    "    y: `~numpy.ndarray`\n",
    "        n-dim array with flux values \n",
    "    dy: `~numpy npdarray`\n",
    "        n-dim array with statistical uncertainties on flux values\n",
    "    mUL: `~numpy npdarray`\n",
    "        n-dim array with bools that are true if y in the bin is upper limit\n",
    "\n",
    "    {options}\n",
    "    scale: float\n",
    "        numbers of sigmas for likelihood scan\n",
    "        \n",
    "    ysteps: int\n",
    "        number of steps for likelihood scan\n",
    "    ymin: float\n",
    "        minimum flux assumed for likelihood scan\n",
    "        \n",
    "    ULconf: float\n",
    "        confidence interval for upper limit\n",
    "    \"\"\"\n",
    "    ymin = np.min((ymin, np.min(np.abs(y - scale * dy))))\n",
    "    ymax = np.max(y + scale * dy)\n",
    "    yrange = np.logspace(np.log10(ymin), np.log10(ymax), ysteps)\n",
    "\n",
    "    llh = []\n",
    "    for i,E in enumerate(x):\n",
    "        if mUL[i]:\n",
    "            llh.append(normal.pdf(yrange, loc = ymin, scale = dy[i] / ndtri(ULconf)))\n",
    "            print (\"assuming {0:.3f} confidence level\".format(\n",
    "                    erfnorm(dy[i], 0.,0., dy[i] / ndtri(ULconf)) + 0.5\n",
    "                    ))\n",
    "        else:\n",
    "            if distr == 'norm':\n",
    "                llh.append(normal.pdf(yrange, loc = y[i], scale = dy[i]))\n",
    "            elif distr == 'lognorm':\n",
    "                sigma = np.sqrt(np.log(1. + dy[i]**2. / y[i]**2.))\n",
    "                llh.append(lognorm.pdf(yrange / y[i], sigma))\n",
    "\n",
    "        llh[-1][llh[-1] < 1e-200] = np.ones(np.sum(llh[-1] < 1e-200)) * 1e-200\n",
    "\n",
    "    return np.log(llh), yrange"
   ]
  },
  {
   "cell_type": "code",
   "execution_count": 13,
   "metadata": {},
   "outputs": [
    {
     "name": "stdout",
     "output_type": "stream",
     "text": [
      "assuming 0.950 confidence level\n",
      "assuming 0.950 confidence level\n",
      "assuming 0.950 confidence level\n",
      "assuming 0.950 confidence level\n",
      "assuming 0.950 confidence level\n",
      "assuming 0.950 confidence level\n",
      "assuming 0.950 confidence level\n",
      "assuming 0.950 confidence level\n",
      "assuming 0.950 confidence level\n"
     ]
    }
   ],
   "source": [
    "llh, yrange = get_llh(x = ul_hess[h][0],\n",
    "              dy = ul_hess[h][1] * ul_hess[h][0]**2. * \\\n",
    "                        1e3 * 1e-4 *u.GeV.to('erg'),\n",
    "              y = np.zeros_like(ul_hess[h][0]),\n",
    "              mUL = np.ones(ul_hess[h][0].size, dtype = np.bool),\n",
    "              ymin = 1e-13,\n",
    "              ULconf = 0.95,\n",
    "              distr = 'norm'\n",
    "             )"
   ]
  },
  {
   "cell_type": "markdown",
   "metadata": {},
   "source": [
    "Plot the likelihood curves for each energy bin:"
   ]
  },
  {
   "cell_type": "code",
   "execution_count": 14,
   "metadata": {},
   "outputs": [
    {
     "data": {
      "text/plain": [
       "Text(0,0.5,u'TS')"
      ]
     },
     "execution_count": 14,
     "metadata": {},
     "output_type": "execute_result"
    },
    {
     "data": {
      "image/png": "[encoded data removed]",
      "text/plain": [
       "<matplotlib.figure.Figure at 0x1a0d9001d0>"
      ]
     },
     "metadata": {},
     "output_type": "display_data"
    }
   ],
   "source": [
    "cp = plt.cm.jet\n",
    "for i,l in enumerate(llh):\n",
    "    plt.semilogx(yrange,-2. * (l - np.max(l)), \n",
    "                color = cp(i / float(len(llh))), label = '$E = {0:.2}$ GeV'.format(ul_hess[k][0][i]))\n",
    "    plt.axvline((ul_hess[h][1] * ul_hess[h][0]**2. * \\\n",
    "                        1e3 * 1e-4 *u.GeV.to('erg'))[i],\n",
    "               color = cp(i / float(len(llh))), lw = 1 , ls = ':')\n",
    "plt.gca().set_ylim(0,20.)\n",
    "plt.legend(loc = 0)\n",
    "plt.xlabel('$E^2\\,dN/dE\\,(\\mathrm{erg}\\,\\mathrm{cm}^{-2}\\,\\mathrm{s}^{-1})$')\n",
    "plt.ylabel('TS')"
   ]
  },
  {
   "cell_type": "markdown",
   "metadata": {},
   "source": [
    "Interpolate the likelihood curves:"
   ]
  },
  {
   "cell_type": "code",
   "execution_count": 15,
   "metadata": {},
   "outputs": [],
   "source": [
    "interp_llh = interp1d(np.log10(yrange), llh, kind='linear', fill_value='extrapolate')"
   ]
  },
  {
   "cell_type": "markdown",
   "metadata": {},
   "source": [
    "### Extrapolate with exponential cut-off:"
   ]
  },
  {
   "cell_type": "code",
   "execution_count": 16,
   "metadata": {},
   "outputs": [],
   "source": [
    "fermi_par[f][fs].update({\"lambda_\" : 1. / 1e5}) # large starting value for cut-off energy"
   ]
  },
  {
   "cell_type": "code",
   "execution_count": 17,
   "metadata": {},
   "outputs": [],
   "source": [
    "spec = ExponentialCutoffPowerLaw(**fermi_par[f][fs])"
   ]
  },
  {
   "cell_type": "markdown",
   "metadata": {},
   "source": [
    "loop over exponential cut-off values and record likelihood"
   ]
  },
  {
   "cell_type": "code",
   "execution_count": 18,
   "metadata": {},
   "outputs": [],
   "source": [
    "cut_off = np.logspace(3., 1., 100)\n",
    "\n",
    "sum_llh = np.zeros_like(cut_off)\n",
    "\n",
    "atten = np.exp(-tau.opt_depth(z,ul_hess[h][0]))\n",
    "\n",
    "for i, c in enumerate(cut_off):\n",
    "    spec.parameters['lambda_'].value = 1. / c\n",
    "    y = (spec(ul_hess[h][0] * 1e3) * (ul_hess[h][0] * 1e3)** 2. * u.GeV.to('erg')).value * atten\n",
    "    sum_llh[i] = np.diag(interp_llh(np.log10(y))).sum() # the diag command returns likelihood value of bin i for flux in bin i"
   ]
  },
  {
   "cell_type": "markdown",
   "metadata": {},
   "source": [
    "Plot the summed likelihood "
   ]
  },
  {
   "cell_type": "code",
   "execution_count": 19,
   "metadata": {},
   "outputs": [
    {
     "data": {
      "text/plain": [
       "(-1, 20)"
      ]
     },
     "execution_count": 19,
     "metadata": {},
     "output_type": "execute_result"
    },
    {
     "data": {
      "image/png": "[encoded data removed]",
      "text/plain": [
       "<matplotlib.figure.Figure at 0x1a11640e10>"
      ]
     },
     "metadata": {},
     "output_type": "display_data"
    }
   ],
   "source": [
    "plt.semilogx(cut_off, -2 * (sum_llh - sum_llh.max()))\n",
    "plt.axhline(deltats, color = 'k', ls = '--')\n",
    "plt.xlabel(\"Cut off energy (GeV)\")\n",
    "plt.ylabel(\"TS\")\n",
    "plt.gca().set_ylim(-1,20)"
   ]
  },
  {
   "cell_type": "markdown",
   "metadata": {},
   "source": [
    "And print the upper limit on the cut off energy"
   ]
  },
  {
   "cell_type": "code",
   "execution_count": 20,
   "metadata": {},
   "outputs": [],
   "source": [
    "ts_inv = interp1d(-2 * (sum_llh - sum_llh.max()), np.log(cut_off), kind = 'linear')"
   ]
  },
  {
   "cell_type": "code",
   "execution_count": 21,
   "metadata": {},
   "outputs": [
    {
     "name": "stdout",
     "output_type": "stream",
     "text": [
      "One sided 95% upper limit cut-off energy: E_cut < 35.08 GeV\n"
     ]
    }
   ],
   "source": [
    "print (\"One sided 95% upper limit cut-off energy: E_cut < {0:.2f} GeV\".format(np.exp(ts_inv(deltats))))"
   ]
  },
  {
   "cell_type": "markdown",
   "metadata": {},
   "source": [
    "At the end, remove exponential cut-off again from parameter dict"
   ]
  },
  {
   "cell_type": "code",
   "execution_count": 22,
   "metadata": {},
   "outputs": [
    {
     "data": {
      "text/plain": [
       "1e-05"
      ]
     },
     "execution_count": 22,
     "metadata": {},
     "output_type": "execute_result"
    }
   ],
   "source": [
    "fermi_par[f][fs].pop(\"lambda_\", None)"
   ]
  },
  {
   "cell_type": "markdown",
   "metadata": {},
   "source": [
    "### Extrapolate with different EBL density "
   ]
  },
  {
   "cell_type": "markdown",
   "metadata": {},
   "source": [
    "Loop over EBL density normalization "
   ]
  },
  {
   "cell_type": "code",
   "execution_count": 23,
   "metadata": {},
   "outputs": [],
   "source": [
    "nebl = np.linspace(1., 4., 100)\n",
    "\n",
    "sum_llh = np.zeros_like(nebl)\n",
    "\n",
    "for i, n in enumerate(nebl):\n",
    "    atten = np.exp(-n * tau.opt_depth(z,ul_hess[h][0]))\n",
    "    y = (fermi_spec[f][fs](ul_hess[h][0] * 1e3) * (ul_hess[h][0] * 1e3)** 2. * u.GeV.to('erg')).value * atten\n",
    "    sum_llh[i] = np.diag(interp_llh(np.log10(y))).sum() # the diag command returns likelihood value of bin i for flux in bin i"
   ]
  },
  {
   "cell_type": "markdown",
   "metadata": {},
   "source": [
    "Plot the summed likelihood "
   ]
  },
  {
   "cell_type": "code",
   "execution_count": 24,
   "metadata": {},
   "outputs": [
    {
     "data": {
      "text/plain": [
       "(-1, 50)"
      ]
     },
     "execution_count": 24,
     "metadata": {},
     "output_type": "execute_result"
    },
    {
     "data": {
      "image/png": "[encoded data removed]",
      "text/plain": [
       "<matplotlib.figure.Figure at 0x1a118fcd50>"
      ]
     },
     "metadata": {},
     "output_type": "display_data"
    }
   ],
   "source": [
    "plt.plot(nebl, -2 * (sum_llh - sum_llh.max()))\n",
    "plt.axhline(deltats, color = 'k', ls = '--')\n",
    "plt.xlabel(\"EBL density normalization\")\n",
    "plt.ylabel(\"TS\")\n",
    "plt.gca().set_ylim(-1,50)"
   ]
  },
  {
   "cell_type": "markdown",
   "metadata": {},
   "source": [
    "And print the lower limit on the EBL density"
   ]
  },
  {
   "cell_type": "code",
   "execution_count": 25,
   "metadata": {},
   "outputs": [],
   "source": [
    "ts_inv = interp1d(-2 * (sum_llh - sum_llh.max()), nebl, kind = 'linear')"
   ]
  },
  {
   "cell_type": "code",
   "execution_count": 26,
   "metadata": {},
   "outputs": [
    {
     "name": "stdout",
     "output_type": "stream",
     "text": [
      "One sided 95% lower limit on EBL density scaling: n_EBL > 3.07\n"
     ]
    }
   ],
   "source": [
    "print (\"One sided 95% lower limit on EBL density scaling: n_EBL > {0:.2f}\".format(ts_inv(deltats)))"
   ]
  },
  {
   "cell_type": "markdown",
   "metadata": {},
   "source": [
    "### Extrapolate with absorption in BLR"
   ]
  },
  {
   "cell_type": "markdown",
   "metadata": {},
   "source": [
    "For this to work you need to clone this github repo and add it to your python path: https://github.com/me-manu/blrabsorption"
   ]
  },
  {
   "cell_type": "code",
   "execution_count": 27,
   "metadata": {},
   "outputs": [],
   "source": [
    "from blrabsorption import absorption as ab"
   ]
  },
  {
   "cell_type": "markdown",
   "metadata": {},
   "source": [
    "Initiate the BLR absorption class"
   ]
  },
  {
   "cell_type": "code",
   "execution_count": 28,
   "metadata": {},
   "outputs": [],
   "source": [
    "Ldisk = 1e46 # assumed disk luminsosity in erg / s -> do we have better values?\n",
    "M_BH = 1e9 # assumed black hole mass in solar masses -> do we have better values?\n",
    "LHbeta = 1e43 # assumed HBeta luminosity in erg / s -> do we have better values?\n",
    "r_g = constants.G * M_BH * constants.M_sun / constants.c**2. # gravitational radius"
   ]
  },
  {
   "cell_type": "code",
   "execution_count": 29,
   "metadata": {},
   "outputs": [],
   "source": [
    "blr = ab.BLR(Ldisk, z,  lumiHbeta = LHbeta, M_BH = M_BH)"
   ]
  },
  {
   "cell_type": "markdown",
   "metadata": {},
   "source": [
    "print radius of Ly$\\alpha$ emitting ring, $R_{\\mathrm{Ly}\\alpha} \\approx R_\\mathrm{BLR}$"
   ]
  },
  {
   "cell_type": "code",
   "execution_count": 30,
   "metadata": {},
   "outputs": [
    {
     "name": "stdout",
     "output_type": "stream",
     "text": [
      "R_Lyalpha ~ R_BLR = 5.88e+16 cm\n"
     ]
    }
   ],
   "source": [
    "idx = blr.blr_lines['Ion'] == 'Ly alpha'\n",
    "RLyalpha = blr.Rli[idx][0]\n",
    "print (\"R_Lyalpha ~ R_BLR = {0:.2e} cm\".format(RLyalpha))"
   ]
  },
  {
   "cell_type": "markdown",
   "metadata": {},
   "source": [
    "Calculate the absorption in the ring geometry in the galaxy frame"
   ]
  },
  {
   "cell_type": "code",
   "execution_count": 31,
   "metadata": {},
   "outputs": [
    {
     "name": "stdout",
     "output_type": "stream",
     "text": [
      "(9, 51, 26)\n"
     ]
    }
   ],
   "source": [
    "EGeV = ul_hess[h][0] * (1. + z) * 1e3\n",
    "Rcm = np.logspace(-1.,1.5,51) * RLyalpha\n",
    "\n",
    "tauRing = blr.tau(EGeV, Rcm, geometry = 'ring',\n",
    "            lsteps = 100, mu_steps=100, \n",
    "            rtilde_max = 1e12\n",
    "            )\n",
    "print (tauRing.shape)"
   ]
  },
  {
   "cell_type": "markdown",
   "metadata": {},
   "source": [
    "loop over the different values of the distance between black hole and $\\gamma$-ray emitting region"
   ]
  },
  {
   "cell_type": "code",
   "execution_count": 32,
   "metadata": {},
   "outputs": [],
   "source": [
    "sum_llh = np.zeros_like(Rcm)\n",
    "\n",
    "for i, r in enumerate(Rcm):\n",
    "    atten = np.exp(-(tauRing.sum(axis = -1)[:,i] + tau.opt_depth(z,ul_hess[h][0]))) # sum over all absorption lines\n",
    "    y = (fermi_spec[f][fs](ul_hess[h][0] * 1e3) * (ul_hess[h][0] * 1e3)** 2. * u.GeV.to('erg')).value * atten\n",
    "    sum_llh[i] = np.diag(interp_llh(np.log10(y))).sum() # the diag command returns likelihood value of bin i for flux in bin i"
   ]
  },
  {
   "cell_type": "markdown",
   "metadata": {},
   "source": [
    "Plot the summed likelihood "
   ]
  },
  {
   "cell_type": "code",
   "execution_count": 33,
   "metadata": {},
   "outputs": [
    {
     "data": {
      "text/plain": [
       "(-1, 50)"
      ]
     },
     "execution_count": 33,
     "metadata": {},
     "output_type": "execute_result"
    },
    {
     "data": {
      "image/png": "[encoded data removed]",
      "text/plain": [
       "<matplotlib.figure.Figure at 0x1a11767290>"
      ]
     },
     "metadata": {},
     "output_type": "display_data"
    }
   ],
   "source": [
    "plt.semilogx(Rcm, -2 * (sum_llh - sum_llh.max()))\n",
    "plt.axhline(deltats, color = 'k', ls = '--')\n",
    "plt.xlabel(\"Disntance from central engine (cm)\")\n",
    "plt.ylabel(\"TS\")\n",
    "plt.gca().set_ylim(-1,50)"
   ]
  },
  {
   "cell_type": "markdown",
   "metadata": {},
   "source": [
    "And print the upper limit on the distance"
   ]
  },
  {
   "cell_type": "code",
   "execution_count": 34,
   "metadata": {},
   "outputs": [],
   "source": [
    "ts_inv = interp1d(-2 * (sum_llh - sum_llh.max()), np.log(Rcm), kind = 'linear')"
   ]
  },
  {
   "cell_type": "code",
   "execution_count": 35,
   "metadata": {},
   "outputs": [
    {
     "name": "stdout",
     "output_type": "stream",
     "text": [
      "One sided 95% upper limit on distance: R < 9.53e+16 cm = 1.62 RLyalpha = 645.34 rg\n"
     ]
    }
   ],
   "source": [
    "rlim = np.exp(ts_inv(deltats))\n",
    "print (\"One sided 95% upper limit on distance: R < {0:.2e} cm = {1:.2f} RLyalpha = {2:.2f} rg\".format(\n",
    "    rlim, rlim / RLyalpha, (rlim / r_g.to('cm')).value))"
   ]
  },
  {
   "cell_type": "code",
   "execution_count": null,
   "metadata": {},
   "outputs": [],
   "source": []
  }
 ],
 "metadata": {
  "kernelspec": {
   "display_name": "Python 2",
   "language": "python",
   "name": "python2"
  },
  "language_info": {
   "codemirror_mode": {
    "name": "ipython",
    "version": 2
   },
   "file_extension": ".py",
   "mimetype": "text/x-python",
   "name": "python",
   "nbconvert_exporter": "python",
   "pygments_lexer": "ipython2",
   "version": "2.7.14"
  }
 },
 "nbformat": 4,
 "nbformat_minor": 2
}
